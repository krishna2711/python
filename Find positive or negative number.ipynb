{
 "cells": [
  {
   "cell_type": "code",
   "execution_count": 9,
   "metadata": {},
   "outputs": [
    {
     "name": "stdout",
     "output_type": "stream",
     "text": [
      "enter a number-9\n",
      "Negative number\n"
     ]
    }
   ],
   "source": [
    "num = float(input(\"enter a number\"))\n",
    "if num > 0:\n",
    "    print(\"postive number\")\n",
    "elif num < 0:\n",
    "    print(\"Negative number\")\n",
    "    \n",
    "else:\n",
    "    print(\"zero\")\n",
    "    "
   ]
  }
 ],
 "metadata": {
  "kernelspec": {
   "display_name": "Python 3",
   "language": "python",
   "name": "python3"
  },
  "language_info": {
   "codemirror_mode": {
    "name": "ipython",
    "version": 3
   },
   "file_extension": ".py",
   "mimetype": "text/x-python",
   "name": "python",
   "nbconvert_exporter": "python",
   "pygments_lexer": "ipython3",
   "version": "3.6.4"
  }
 },
 "nbformat": 4,
 "nbformat_minor": 2
}

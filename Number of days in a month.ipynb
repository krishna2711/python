{
 "cells": [
  {
   "cell_type": "code",
   "execution_count": 16,
   "metadata": {},
   "outputs": [
    {
     "name": "stdout",
     "output_type": "stream",
     "text": [
      "List of months : january, February,March,April,May,June,July,August,September,October,November,December\n",
      "Name of the monthFebruary\n",
      "no of days 28/29\n"
     ]
    }
   ],
   "source": [
    "print(\"List of months : january, February,March,April,May,June,July,August,September,October,November,December\")\n",
    "month_name = input(\"Name of the month\")\n",
    "  \n",
    "if month_name == (\"February\"):\n",
    "        print(\"no of days 28/29\")\n",
    "elif month_name in (\"january\",\"March\",\"May\",\"July\",\"August\",\"October\",\"December\"):\n",
    "        print(\"no of days 31\")\n",
    "elif month_name in (\"April\",\"June\",\"August\",\"September\",\"November\"):\n",
    "        print(\"no of days 30\")"
   ]
  }
 ],
 "metadata": {
  "kernelspec": {
   "display_name": "Python 3",
   "language": "python",
   "name": "python3"
  },
  "language_info": {
   "codemirror_mode": {
    "name": "ipython",
    "version": 3
   },
   "file_extension": ".py",
   "mimetype": "text/x-python",
   "name": "python",
   "nbconvert_exporter": "python",
   "pygments_lexer": "ipython3",
   "version": "3.6.4"
  }
 },
 "nbformat": 4,
 "nbformat_minor": 2
}
